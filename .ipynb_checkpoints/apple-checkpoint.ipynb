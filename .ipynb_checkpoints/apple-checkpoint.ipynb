{
 "cells": [
  {
   "cell_type": "code",
   "execution_count": 47,
   "metadata": {},
   "outputs": [],
   "source": [
    "from selenium import webdriver\n",
    "import time\n",
    "from selenium.webdriver.common.by import By\n",
    "import re\n",
    "import random\n",
    "import json\n",
    "from selenium.webdriver.chrome.service import Service"
   ]
  },
  {
   "cell_type": "code",
   "execution_count": 48,
   "metadata": {},
   "outputs": [
    {
     "name": "stderr",
     "output_type": "stream",
     "text": [
      "/var/folders/yh/d_jgns49545bkkpm4rst2c_80000gn/T/ipykernel_51649/2973166268.py:2: DeprecationWarning: executable_path has been deprecated, please pass in a Service object\n",
      "  wd = webdriver.Chrome(r'/Users/tingkangzhao/SeleniumDriver/chromedriver')\n"
     ]
    }
   ],
   "source": [
    "# https://chromedriver.chromium.org/downloads\n",
    "wd = webdriver.Chrome(r'/Users/tingkangzhao/SeleniumDriver/chromedriver')\n",
    "wd.implicitly_wait(10)"
   ]
  },
  {
   "cell_type": "code",
   "execution_count": 55,
   "metadata": {},
   "outputs": [],
   "source": [
    "# software, machine learning, technology, data, engineer\n",
    "url = \"https://www.usajobs.gov/Search/Results?k=software&p=1\"\n",
    "wd.get(\"https://www.usajobs.gov/job/713882800\")"
   ]
  },
  {
   "cell_type": "code",
   "execution_count": 24,
   "metadata": {},
   "outputs": [],
   "source": [
    "def getUrl(key_word):\n",
    "    return f\"https://www.usajobs.gov/Search/Results?k={key_word}&p=1\""
   ]
  },
  {
   "cell_type": "code",
   "execution_count": 9,
   "metadata": {},
   "outputs": [],
   "source": [
    "def nextPage():\n",
    "    wd.find_element(By.CSS_SELECTOR, \"#paginator > ul > li.usajobs-search-pagination__next-page-container > a\").click()\n",
    "    "
   ]
  },
  {
   "cell_type": "code",
   "execution_count": 12,
   "metadata": {},
   "outputs": [],
   "source": [
    "def eachJobOnPage():\n",
    "    return wd.find_elements(By.CSS_SELECTOR, \".usajobs-search-result--core\")\n"
   ]
  },
  {
   "cell_type": "code",
   "execution_count": 16,
   "metadata": {},
   "outputs": [],
   "source": [
    "def jobName(job):\n",
    "    return job.find_element(By.CSS_SELECTOR, \"[href]\").text"
   ]
  },
  {
   "cell_type": "code",
   "execution_count": 21,
   "metadata": {},
   "outputs": [],
   "source": [
    "def jobUrl(job):\n",
    "    return job.find_element(By.CSS_SELECTOR, \"[href]\").get_attribute(\"href\")"
   ]
  },
  {
   "cell_type": "code",
   "execution_count": 22,
   "metadata": {},
   "outputs": [],
   "source": [
    "def jobSalary(job):\n",
    "    return job.find_element(By.CSS_SELECTOR, \".usajobs-search-result--core__item\").text"
   ]
  },
  {
   "cell_type": "code",
   "execution_count": null,
   "metadata": {},
   "outputs": [],
   "source": [
    "def jobInfo(job):\n",
    "    return wd.find_element(By.CSS_SELECTOR, \".usajobs-joa-actions.usajobs-joa-actions--v1-5.mt-0.mb-1-5.pos-rel>.usajobs-joa-summary__list.usajobs-joa-summary--pilot__list\").text.split('\\n')"
   ]
  },
  {
   "cell_type": "code",
   "execution_count": 68,
   "metadata": {},
   "outputs": [
    {
     "data": {
      "text/plain": [
       "['Open & closing dates',\n",
       " '03/20/2023 to 06/20/2023',\n",
       " 'Salary',\n",
       " '$65,207 - $121,128 per year',\n",
       " 'Pay scale & grade',\n",
       " 'IS 09 - 12',\n",
       " 'Location',\n",
       " '1 vacancy in the following location:',\n",
       " 'Cambridge',\n",
       " '1 vacancy',\n",
       " 'Remote job',\n",
       " 'No',\n",
       " 'Telework eligible',\n",
       " 'Yes—as determined by the agency policy.',\n",
       " 'Relocation expenses reimbursed',\n",
       " 'No',\n",
       " 'Appointment type',\n",
       " 'Permanent - Indefinite Trust Fund Appointment This is not a federal position',\n",
       " 'Work schedule',\n",
       " 'Full-time -',\n",
       " 'Service',\n",
       " 'Competitive',\n",
       " 'Promotion potential',\n",
       " '13',\n",
       " 'Job family (Series)',\n",
       " '2210 Information Technology Management',\n",
       " 'Supervisory status',\n",
       " 'No',\n",
       " 'Security clearance',\n",
       " 'Other',\n",
       " 'Drug test',\n",
       " 'No',\n",
       " 'Announcement number',\n",
       " '23-67',\n",
       " 'Control number',\n",
       " '713882800']"
      ]
     },
     "execution_count": 68,
     "metadata": {},
     "output_type": "execute_result"
    }
   ],
   "source": [
    "# test\n",
    "wd.find_element(By.CSS_SELECTOR, \".usajobs-joa-actions.usajobs-joa-actions--v1-5.mt-0.mb-1-5.pos-rel>.usajobs-joa-summary__list.usajobs-joa-summary--pilot__list\").text.split('\\n')"
   ]
  },
  {
   "cell_type": "code",
   "execution_count": 53,
   "metadata": {},
   "outputs": [],
   "source": [
    "def saveFile(file, index):\n",
    "    with open(f\"apple{index}.json\", 'w') as f:\n",
    "        json.dump(file, f)"
   ]
  },
  {
   "cell_type": "code",
   "execution_count": null,
   "metadata": {},
   "outputs": [],
   "source": [
    "import requests\n",
    "from bs4 import BeautifulSoup\n",
    "\n",
    "# Selenium\n",
    "wd = webdriver.Chrome(r'/Users/tingkangzhao/SeleniumDriver/chromedriver')\n",
    "wd.implicitly_wait(10)\n",
    "url = getUrl(\"software\")\n",
    "wd.get(url)\n",
    "\n",
    "# BeautifulSoup\n",
    "session = requests.Session()\n",
    "headers = {\n",
    "        'User-Agent' : 'Mozilla/5.0 (X11; Ubuntu; Linux x86_64; rv:46.0) Gecko/20100101 Firefox/46.0',\n",
    "        'Content-Type': 'application/x-www-form-urlencoded',\n",
    "        'Connection' : 'Keep-Alive',\n",
    "        'Accept':'text/html,application/xhtml+xml,application/xml;q=0.9,*/*;q=0.8'\n",
    "}\n",
    "\n",
    "dic = {}\n",
    "\n",
    "for job in eachJobOnPage():\n",
    "    # Selenium work\n",
    "    jobTitle = jobName(job)\n",
    "    link = jobUrl(job)\n",
    "    # BS work\n",
    "    url_obj = session.get(url, headers = headers)\n",
    "    bs = BeautifulSoup(url_obj.text, \"html.parser\")\n",
    "    bs.find\n",
    "    "
   ]
  },
  {
   "cell_type": "code",
   "execution_count": 117,
   "metadata": {},
   "outputs": [
    {
     "name": "stdout",
     "output_type": "stream",
     "text": [
      "713260200\n"
     ]
    },
    {
     "data": {
      "text/plain": [
       "'\\n\\n Help\\r\\n                                \\nRequirements\\n Conditions of Employment\\n\\nApplicants must meet all qualification requirements by the closing date of this announcement.\\nU.S. Citizen\\nSuitable for Federal employment.\\nRegistered for Selective Service if applicable. (www.sss.gov)\\nTime-in-grade/band requirements must be met by closing date.\\nA one-year probationary period may be required.\\nThis is a NON-BARGAINING unit position.\\n\\n\\n Qualifications\\n\\nSpecialized Experience: For the GS-14, you must have one year of experience at a level of difficulty and responsibility equivalent to the GS-13 in the Federal service. Experience for this position includes: Experience for this position includes: Manage the design, development, implementation, and deployment of large, complex computer assisted data collection instruments. Work directly with customers to analyze and refine requirements. Provide technical guidance in the design, coding, testing, and debugging process. Communicate technical information in person and in writing to a variety of audiences.\\n\\nAND\\nFor all IT positions individuals must have IT-related experience demonstrating each of the four competencies listed below.\\n\\nAttention to Detail - Is thorough when performing work and conscientious about attending to detail.\\nCustomer Service - Works with clients and customers (that is, any individuals who use or receive the services or products that your work unit produces, including the general public, individuals who work in the agency, other agencies, or organizations outside the Government) to assess their needs, provide information or assistance, resolve their problems, or satisfy their expectations; knows about available products and services; is committed to providing quality products and services.\\nOral Communication - Expresses information (for example, ideas or facts) to individuals or groups effectively, taking into account the audience and nature of the information (for example, technical, sensitive, controversial); makes clear and convincing oral presentations; listens to others, attends to nonverbal cues, and responds appropriately.\\nProblem Solving - Identifies problems; determines accuracy and relevance of information; uses sound judgment to generate and evaluate alternatives, and to make recommendations.\\n\\nEducation cannot be substituted at this grade level.\\n\\nExperience refers to paid and unpaid experience, including volunteer work done through National Service programs (e.g., Peace Corps, AmeriCorps) and other organizations (e.g., professional; philanthropic; religious; spiritual; community, student, social). Volunteer work helps build critical competencies, knowledge, and skills and can provide valuable training and experience that translates directly to paid employment. You will receive credit for all qualifying experience, including volunteer.\\n\\n\\n\\nAdditional information\\n\\nThe following links provide information on various hiring authorities that may enable you to apply through merit assignment procedures, or be eligible for a non-competitive appointment.\\n\\nCTAP\\nICTAP\\n\\nThe Department of Commerce provides reasonable accommodations to applicants with disabilities. If you need a reasonable accommodation for any part of the application and hiring process, please notify the Human Resources Office. The decision on granting reasonable accommodation will be on a case-by-case basis. TTY users can contact the Human Resources Office via the Federal Relay Service, 1-800-877-8339.\\n\\nRead more\\n\\n\\n\\n\\nBenefits\\n\\n\\n Help\\r\\n                                                \\n\\r\\n                                                        A career with the U.S. government provides employees with a comprehensive benefits package. As a federal employee, you and your family will have access to a range of benefits that are designed to make your federal career very rewarding. Opens in a new windowLearn more about federal benefits.\\r\\n                                                    \\n\\n\\nReview our benefits\\n\\n\\nEligibility for benefits depends on the type of position you hold and whether your position is full-time, part-time or intermittent. Contact the hiring agency for more information on the specific benefits offered.\\n\\n\\n\\n\\n\\n'"
      ]
     },
     "execution_count": 117,
     "metadata": {},
     "output_type": "execute_result"
    }
   ],
   "source": [
    "import requests\n",
    "from bs4 import BeautifulSoup\n",
    "session = requests.Session()\n",
    "headers = {\n",
    "        'User-Agent' : 'Mozilla/5.0 (X11; Ubuntu; Linux x86_64; rv:46.0) Gecko/20100101 Firefox/46.0',\n",
    "        'Content-Type': 'application/x-www-form-urlencoded',\n",
    "        'Connection' : 'Keep-Alive',\n",
    "        'Accept':'text/html,application/xhtml+xml,application/xml;q=0.9,*/*;q=0.8'\n",
    "}\n",
    "\n",
    "\n",
    "url_obj = session.get(\"https://www.usajobs.gov/job/713260200\", headers = headers)\n",
    "bs = BeautifulSoup(url_obj.text, \"html.parser\")\n",
    "for i in bs.find_all('li', \"usajobs-joa-summary__item usajobs-joa-summary--pilot__item margin-bottom-20\"):\n",
    "    children = [i for i in i.children]\n",
    "    if children[1].text == \"Control number\":\n",
    "        job_id = [i.text for i in children[1].next_siblings][1]\n",
    "        print(job_id)\n",
    "posted = bs.find(\"p\", {\"class\": \"usajobs-joa-summary__value usajobs-joa-summary--pilot__value\"}).text[2:12]\n",
    "jobLocation = ''.join([i for i in bs.find(\"span\", {\"class\": \"usajobs-joa-locations__city\"}).text if i != '\\r' and i != '\\n' and i != ' '])\n",
    "companyName = ''.join([i for i in bs.find('a', {\"class\": \"usajobs-joa-banner__agency usajobs-joa-banner--v1-3__agency\"}).text if i != '\\r' and i != '\\n' and i != ' '])\n",
    "jobType = bs.find('p', {\"class\": \"usajobs-joa-summary__value usajobs-joa-summary--pilot__value\", \"itemprop\":\"employmentType\"}).text\n",
    "salary = []\n",
    "for i in bs.find('p', {'class':'usajobs-joa-summary__salary salary-text-normal'}).text.split('-'):\n",
    "    salary.append(int(''.join([j for j in i if j.isdigit()])))\n",
    "jobDescription = bs.find('div', {'id': \"duties\"}).text\n",
    "requirements = bs.find('div', {'id': \"requirements\"}).text"
   ]
  },
  {
   "cell_type": "code",
   "execution_count": 57,
   "metadata": {},
   "outputs": [],
   "source": [
    "# get all the job urls\n",
    "count = 0\n",
    "file_index = 0\n",
    "jobs_dic = {}\n",
    "while True:\n",
    "    for i in wd.find_elements(By.CSS_SELECTOR, \"tbody\"):  \n",
    "        job_dic = {}\n",
    "        title = i.find_element(By.CSS_SELECTOR, '.table-col-1>a').text\n",
    "        href = i.find_element(By.CSS_SELECTOR, '.table-col-1>a').get_attribute(\"href\")\n",
    "        location = i.find_element(By.CSS_SELECTOR, \".table-col-2\").text\n",
    "        id = i.find_element(By.CSS_SELECTOR, '.table-col-1>a').get_attribute(\"id\")\n",
    "        id = getNumbers(id)\n",
    "        job_dic[\"jobID\"] = id\n",
    "        job_dic[\"jobTitle\"] = title\n",
    "        job_dic[\"link\"] = href\n",
    "        job_dic[\"jobLocation\"] = {\"remote\": \"not specified\", \"city\": location, \"state\": None, \"country\": \"US\"}\n",
    "        jobs_dic[id] = job_dic\n",
    "        count += 1\n",
    "\n",
    "    if count >= 100:\n",
    "        count = 0\n",
    "        file_index += 1\n",
    "        saveFile(jobs_dic, file_index)\n",
    "        jobs_dic = {}\n",
    "\n",
    "    time.sleep(random.randint(5, 13))\n",
    "    try:\n",
    "      nextPage()\n",
    "    except:\n",
    "        break"
   ]
  }
 ],
 "metadata": {
  "kernelspec": {
   "display_name": "Python 3 (ipykernel)",
   "language": "python",
   "name": "python3"
  },
  "language_info": {
   "codemirror_mode": {
    "name": "ipython",
    "version": 3
   },
   "file_extension": ".py",
   "mimetype": "text/x-python",
   "name": "python",
   "nbconvert_exporter": "python",
   "pygments_lexer": "ipython3",
   "version": "3.10.1"
  },
  "toc": {
   "base_numbering": 1,
   "nav_menu": {},
   "number_sections": true,
   "sideBar": true,
   "skip_h1_title": false,
   "title_cell": "Table of Contents",
   "title_sidebar": "Contents",
   "toc_cell": false,
   "toc_position": {},
   "toc_section_display": true,
   "toc_window_display": false
  },
  "vscode": {
   "interpreter": {
    "hash": "40d3a090f54c6569ab1632332b64b2c03c39dcf918b08424e98f38b5ae0af88f"
   }
  }
 },
 "nbformat": 4,
 "nbformat_minor": 2
}
